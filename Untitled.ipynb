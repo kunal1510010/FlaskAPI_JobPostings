{
 "cells": [
  {
   "cell_type": "code",
   "execution_count": 1,
   "metadata": {},
   "outputs": [],
   "source": [
    "import pandas as pd\n",
    "import matplotlib.pyplot as plt\n",
    "import seaborn as sns"
   ]
  },
  {
   "cell_type": "code",
   "execution_count": 2,
   "metadata": {},
   "outputs": [],
   "source": [
    "data = pd.read_csv('data.csv')"
   ]
  },
  {
   "cell_type": "code",
   "execution_count": 3,
   "metadata": {},
   "outputs": [],
   "source": [
    "data['Relevence'] = data['Skills'].str.contains('python',case=False)\n"
   ]
  },
  {
   "cell_type": "code",
   "execution_count": 4,
   "metadata": {},
   "outputs": [],
   "source": [
    "data = data[~(data['Relevence'] == False)]"
   ]
  },
  {
   "cell_type": "code",
   "execution_count": 34,
   "metadata": {},
   "outputs": [
    {
     "data": {
      "text/html": [
       "<div>\n",
       "<style scoped>\n",
       "    .dataframe tbody tr th:only-of-type {\n",
       "        vertical-align: middle;\n",
       "    }\n",
       "\n",
       "    .dataframe tbody tr th {\n",
       "        vertical-align: top;\n",
       "    }\n",
       "\n",
       "    .dataframe thead th {\n",
       "        text-align: right;\n",
       "    }\n",
       "</style>\n",
       "<table border=\"1\" class=\"dataframe\">\n",
       "  <thead>\n",
       "    <tr style=\"text-align: right;\">\n",
       "      <th></th>\n",
       "      <th>Unnamed: 0</th>\n",
       "      <th>Company</th>\n",
       "      <th>Experience</th>\n",
       "      <th>Link</th>\n",
       "      <th>Location</th>\n",
       "      <th>Skills</th>\n",
       "      <th>Title</th>\n",
       "      <th>Relevence</th>\n",
       "    </tr>\n",
       "  </thead>\n",
       "  <tbody>\n",
       "    <tr>\n",
       "      <th>260</th>\n",
       "      <td>260</td>\n",
       "      <td>DIGNITAS DIGITAL PRIVATE LIMITED</td>\n",
       "      <td>0-0 yrs</td>\n",
       "      <td>https://www.naukri.com/job-listings-Programmer...</td>\n",
       "      <td>Delhi</td>\n",
       "      <td>Algorithms, Data Structures, Computer Science,...</td>\n",
       "      <td>Programmer Analyst</td>\n",
       "      <td>True</td>\n",
       "    </tr>\n",
       "    <tr>\n",
       "      <th>103</th>\n",
       "      <td>103</td>\n",
       "      <td>The Hiring Story</td>\n",
       "      <td>0-2 yrs</td>\n",
       "      <td>https://www.naukri.com/job-listings-Data-Analy...</td>\n",
       "      <td>Mumbai</td>\n",
       "      <td>Analytics, Data Analytics, Data Management, Da...</td>\n",
       "      <td>Data Analyst Role - Internet/ecommerce - IIM /...</td>\n",
       "      <td>True</td>\n",
       "    </tr>\n",
       "    <tr>\n",
       "      <th>78</th>\n",
       "      <td>78</td>\n",
       "      <td>The Hiring Story</td>\n",
       "      <td>0-3 yrs</td>\n",
       "      <td>https://www.naukri.com/job-listings-Data-Analy...</td>\n",
       "      <td>Mumbai</td>\n",
       "      <td>Python, SQL, R, Data Analytics, Data Analyst, ...</td>\n",
       "      <td>Data Analyst - Sql/r/ Python</td>\n",
       "      <td>True</td>\n",
       "    </tr>\n",
       "    <tr>\n",
       "      <th>123</th>\n",
       "      <td>123</td>\n",
       "      <td>Gauge Data Solutions Pvt Ltd</td>\n",
       "      <td>0-3 yrs</td>\n",
       "      <td>https://www.naukri.com/job-listings-Junior-Dat...</td>\n",
       "      <td>Delhi</td>\n",
       "      <td>Text Mining, NLP, Data Science, NoSQL, Core Ja...</td>\n",
       "      <td>Junior Data Analyst</td>\n",
       "      <td>True</td>\n",
       "    </tr>\n",
       "    <tr>\n",
       "      <th>85</th>\n",
       "      <td>85</td>\n",
       "      <td>MERITUS INTELYTICS PRIVATE LIMITED</td>\n",
       "      <td>0-5 yrs</td>\n",
       "      <td>https://www.naukri.com/job-listings-Merilytics...</td>\n",
       "      <td>Hyderabad</td>\n",
       "      <td>sql, data analysis, business analysis, excel, ...</td>\n",
       "      <td>Merilytics - Business Analyst - Data Analytics...</td>\n",
       "      <td>True</td>\n",
       "    </tr>\n",
       "    <tr>\n",
       "      <th>845</th>\n",
       "      <td>845</td>\n",
       "      <td>Right Step Consulting</td>\n",
       "      <td>0-5 yrs</td>\n",
       "      <td>https://www.naukri.com/job-listings-Data-Analy...</td>\n",
       "      <td>Gurgaon</td>\n",
       "      <td>Data Analyst, SQL, PHP, CRM, ERP, Python, Open...</td>\n",
       "      <td>Data Analyst</td>\n",
       "      <td>True</td>\n",
       "    </tr>\n",
       "    <tr>\n",
       "      <th>607</th>\n",
       "      <td>607</td>\n",
       "      <td>Ressex</td>\n",
       "      <td>0-5 yrs</td>\n",
       "      <td>https://www.naukri.com/job-listings-DATA-ANALY...</td>\n",
       "      <td>Mumbai</td>\n",
       "      <td>Data Analyst, SQL, Process improvement, Data c...</td>\n",
       "      <td>DATA ANALYST</td>\n",
       "      <td>True</td>\n",
       "    </tr>\n",
       "  </tbody>\n",
       "</table>\n",
       "</div>"
      ],
      "text/plain": [
       "     Unnamed: 0                             Company Experience  \\\n",
       "260         260    DIGNITAS DIGITAL PRIVATE LIMITED    0-0 yrs   \n",
       "103         103                    The Hiring Story    0-2 yrs   \n",
       "78           78                    The Hiring Story    0-3 yrs   \n",
       "123         123        Gauge Data Solutions Pvt Ltd    0-3 yrs   \n",
       "85           85  MERITUS INTELYTICS PRIVATE LIMITED    0-5 yrs   \n",
       "845         845               Right Step Consulting    0-5 yrs   \n",
       "607         607                              Ressex    0-5 yrs   \n",
       "\n",
       "                                                  Link   Location  \\\n",
       "260  https://www.naukri.com/job-listings-Programmer...      Delhi   \n",
       "103  https://www.naukri.com/job-listings-Data-Analy...     Mumbai   \n",
       "78   https://www.naukri.com/job-listings-Data-Analy...     Mumbai   \n",
       "123  https://www.naukri.com/job-listings-Junior-Dat...      Delhi   \n",
       "85   https://www.naukri.com/job-listings-Merilytics...  Hyderabad   \n",
       "845  https://www.naukri.com/job-listings-Data-Analy...    Gurgaon   \n",
       "607  https://www.naukri.com/job-listings-DATA-ANALY...     Mumbai   \n",
       "\n",
       "                                                Skills  \\\n",
       "260  Algorithms, Data Structures, Computer Science,...   \n",
       "103  Analytics, Data Analytics, Data Management, Da...   \n",
       "78   Python, SQL, R, Data Analytics, Data Analyst, ...   \n",
       "123  Text Mining, NLP, Data Science, NoSQL, Core Ja...   \n",
       "85   sql, data analysis, business analysis, excel, ...   \n",
       "845  Data Analyst, SQL, PHP, CRM, ERP, Python, Open...   \n",
       "607  Data Analyst, SQL, Process improvement, Data c...   \n",
       "\n",
       "                                                 Title  Relevence  \n",
       "260                                 Programmer Analyst       True  \n",
       "103  Data Analyst Role - Internet/ecommerce - IIM /...       True  \n",
       "78                        Data Analyst - Sql/r/ Python       True  \n",
       "123                                Junior Data Analyst       True  \n",
       "85   Merilytics - Business Analyst - Data Analytics...       True  \n",
       "845                                       Data Analyst       True  \n",
       "607                                       DATA ANALYST       True  "
      ]
     },
     "execution_count": 34,
     "metadata": {},
     "output_type": "execute_result"
    }
   ],
   "source": [
    "data['Relevence'] = data['Skills'].str.contains('data',case=False)\n",
    "data = data[~(data['Relevence'] == False)]\n",
    "data"
   ]
  },
  {
   "cell_type": "code",
   "execution_count": 6,
   "metadata": {},
   "outputs": [],
   "source": [
    "data['Relevence_experience'] = data['Experience'].str.contains('0',case=False)"
   ]
  },
  {
   "cell_type": "code",
   "execution_count": 7,
   "metadata": {},
   "outputs": [
    {
     "data": {
      "text/html": [
       "<div>\n",
       "<style scoped>\n",
       "    .dataframe tbody tr th:only-of-type {\n",
       "        vertical-align: middle;\n",
       "    }\n",
       "\n",
       "    .dataframe tbody tr th {\n",
       "        vertical-align: top;\n",
       "    }\n",
       "\n",
       "    .dataframe thead th {\n",
       "        text-align: right;\n",
       "    }\n",
       "</style>\n",
       "<table border=\"1\" class=\"dataframe\">\n",
       "  <thead>\n",
       "    <tr style=\"text-align: right;\">\n",
       "      <th></th>\n",
       "      <th>Unnamed: 0</th>\n",
       "    </tr>\n",
       "  </thead>\n",
       "  <tbody>\n",
       "    <tr>\n",
       "      <th>count</th>\n",
       "      <td>20.000000</td>\n",
       "    </tr>\n",
       "    <tr>\n",
       "      <th>mean</th>\n",
       "      <td>432.000000</td>\n",
       "    </tr>\n",
       "    <tr>\n",
       "      <th>std</th>\n",
       "      <td>393.528706</td>\n",
       "    </tr>\n",
       "    <tr>\n",
       "      <th>min</th>\n",
       "      <td>14.000000</td>\n",
       "    </tr>\n",
       "    <tr>\n",
       "      <th>25%</th>\n",
       "      <td>96.000000</td>\n",
       "    </tr>\n",
       "    <tr>\n",
       "      <th>50%</th>\n",
       "      <td>215.500000</td>\n",
       "    </tr>\n",
       "    <tr>\n",
       "      <th>75%</th>\n",
       "      <td>821.000000</td>\n",
       "    </tr>\n",
       "    <tr>\n",
       "      <th>max</th>\n",
       "      <td>1094.000000</td>\n",
       "    </tr>\n",
       "  </tbody>\n",
       "</table>\n",
       "</div>"
      ],
      "text/plain": [
       "        Unnamed: 0\n",
       "count    20.000000\n",
       "mean    432.000000\n",
       "std     393.528706\n",
       "min      14.000000\n",
       "25%      96.000000\n",
       "50%     215.500000\n",
       "75%     821.000000\n",
       "max    1094.000000"
      ]
     },
     "execution_count": 7,
     "metadata": {},
     "output_type": "execute_result"
    }
   ],
   "source": [
    "data = data[~(data['Relevence_experience'] == False)]\n",
    "data.describe()"
   ]
  },
  {
   "cell_type": "code",
   "execution_count": 8,
   "metadata": {},
   "outputs": [
    {
     "name": "stderr",
     "output_type": "stream",
     "text": [
      "/home/shubham/anaconda3/lib/python3.7/site-packages/ipykernel_launcher.py:2: SettingWithCopyWarning: \n",
      "A value is trying to be set on a copy of a slice from a DataFrame.\n",
      "Try using .loc[row_indexer,col_indexer] = value instead\n",
      "\n",
      "See the caveats in the documentation: http://pandas.pydata.org/pandas-docs/stable/indexing.html#indexing-view-versus-copy\n",
      "  \n"
     ]
    }
   ],
   "source": [
    "data.sort_values(by='Company')\n",
    "data['Location']=data['Location'].str.extract('(\\w+)')"
   ]
  },
  {
   "cell_type": "code",
   "execution_count": 26,
   "metadata": {},
   "outputs": [],
   "source": [
    "data.set_index('Company')\n",
    "data = data.sort_values(by='Experience')\n",
    "data = data[0:7]"
   ]
  },
  {
   "cell_type": "code",
   "execution_count": 28,
   "metadata": {},
   "outputs": [],
   "source": [
    "data_new = data.groupby('Company').nunique()\n",
    "data_loc = data.groupby('Location').nunique()"
   ]
  },
  {
   "cell_type": "code",
   "execution_count": 30,
   "metadata": {},
   "outputs": [],
   "source": [
    "data_new = data_new.sort_values(by='Title',ascending=False)\n",
    "data_loc = data_loc.sort_values(by='Title',ascending=False)"
   ]
  },
  {
   "cell_type": "code",
   "execution_count": 31,
   "metadata": {},
   "outputs": [
    {
     "data": {
      "text/plain": [
       "<matplotlib.axes._subplots.AxesSubplot at 0x7f44a132db00>"
      ]
     },
     "execution_count": 31,
     "metadata": {},
     "output_type": "execute_result"
    },
    {
     "data": {
      "image/png": "[encoded data removed]",
      "text/plain": [
       "<Figure size 432x288 with 1 Axes>"
      ]
     },
     "metadata": {
      "needs_background": "light"
     },
     "output_type": "display_data"
    },
    {
     "data": {
      "image/png": "[encoded data removed]",
      "text/plain": [
       "<Figure size 432x288 with 1 Axes>"
      ]
     },
     "metadata": {
      "needs_background": "light"
     },
     "output_type": "display_data"
    }
   ],
   "source": [
    "data_new.plot(kind='line' , sharex=False , sharey=False)\n",
    "data_loc.plot(kind='line' , sharex=False , sharey=False)"
   ]
  },
  {
   "cell_type": "code",
   "execution_count": 32,
   "metadata": {},
   "outputs": [
    {
     "data": {
      "text/html": [
       "<div>\n",
       "<style scoped>\n",
       "    .dataframe tbody tr th:only-of-type {\n",
       "        vertical-align: middle;\n",
       "    }\n",
       "\n",
       "    .dataframe tbody tr th {\n",
       "        vertical-align: top;\n",
       "    }\n",
       "\n",
       "    .dataframe thead th {\n",
       "        text-align: right;\n",
       "    }\n",
       "</style>\n",
       "<table border=\"1\" class=\"dataframe\">\n",
       "  <thead>\n",
       "    <tr style=\"text-align: right;\">\n",
       "      <th></th>\n",
       "      <th>Unnamed: 0</th>\n",
       "      <th>Company</th>\n",
       "      <th>Experience</th>\n",
       "      <th>Link</th>\n",
       "      <th>Location</th>\n",
       "      <th>Skills</th>\n",
       "      <th>Title</th>\n",
       "    </tr>\n",
       "    <tr>\n",
       "      <th>Location</th>\n",
       "      <th></th>\n",
       "      <th></th>\n",
       "      <th></th>\n",
       "      <th></th>\n",
       "      <th></th>\n",
       "      <th></th>\n",
       "      <th></th>\n",
       "    </tr>\n",
       "  </thead>\n",
       "  <tbody>\n",
       "    <tr>\n",
       "      <th>Mumbai</th>\n",
       "      <td>3</td>\n",
       "      <td>2</td>\n",
       "      <td>3</td>\n",
       "      <td>3</td>\n",
       "      <td>1</td>\n",
       "      <td>3</td>\n",
       "      <td>3</td>\n",
       "    </tr>\n",
       "    <tr>\n",
       "      <th>Delhi</th>\n",
       "      <td>2</td>\n",
       "      <td>2</td>\n",
       "      <td>2</td>\n",
       "      <td>2</td>\n",
       "      <td>1</td>\n",
       "      <td>2</td>\n",
       "      <td>2</td>\n",
       "    </tr>\n",
       "    <tr>\n",
       "      <th>Gurgaon</th>\n",
       "      <td>1</td>\n",
       "      <td>1</td>\n",
       "      <td>1</td>\n",
       "      <td>1</td>\n",
       "      <td>1</td>\n",
       "      <td>1</td>\n",
       "      <td>1</td>\n",
       "    </tr>\n",
       "    <tr>\n",
       "      <th>Hyderabad</th>\n",
       "      <td>1</td>\n",
       "      <td>1</td>\n",
       "      <td>1</td>\n",
       "      <td>1</td>\n",
       "      <td>1</td>\n",
       "      <td>1</td>\n",
       "      <td>1</td>\n",
       "    </tr>\n",
       "  </tbody>\n",
       "</table>\n",
       "</div>"
      ],
      "text/plain": [
       "           Unnamed: 0  Company  Experience  Link  Location  Skills  Title\n",
       "Location                                                                 \n",
       "Mumbai              3        2           3     3         1       3      3\n",
       "Delhi               2        2           2     2         1       2      2\n",
       "Gurgaon             1        1           1     1         1       1      1\n",
       "Hyderabad           1        1           1     1         1       1      1"
      ]
     },
     "execution_count": 32,
     "metadata": {},
     "output_type": "execute_result"
    }
   ],
   "source": [
    "data_loc"
   ]
  },
  {
   "cell_type": "code",
   "execution_count": 33,
   "metadata": {},
   "outputs": [
    {
     "data": {
      "text/html": [
       "<div>\n",
       "<style scoped>\n",
       "    .dataframe tbody tr th:only-of-type {\n",
       "        vertical-align: middle;\n",
       "    }\n",
       "\n",
       "    .dataframe tbody tr th {\n",
       "        vertical-align: top;\n",
       "    }\n",
       "\n",
       "    .dataframe thead th {\n",
       "        text-align: right;\n",
       "    }\n",
       "</style>\n",
       "<table border=\"1\" class=\"dataframe\">\n",
       "  <thead>\n",
       "    <tr style=\"text-align: right;\">\n",
       "      <th></th>\n",
       "      <th>Unnamed: 0</th>\n",
       "      <th>Company</th>\n",
       "      <th>Experience</th>\n",
       "      <th>Link</th>\n",
       "      <th>Location</th>\n",
       "      <th>Skills</th>\n",
       "      <th>Title</th>\n",
       "    </tr>\n",
       "    <tr>\n",
       "      <th>Company</th>\n",
       "      <th></th>\n",
       "      <th></th>\n",
       "      <th></th>\n",
       "      <th></th>\n",
       "      <th></th>\n",
       "      <th></th>\n",
       "      <th></th>\n",
       "    </tr>\n",
       "  </thead>\n",
       "  <tbody>\n",
       "    <tr>\n",
       "      <th>The Hiring Story</th>\n",
       "      <td>2</td>\n",
       "      <td>1</td>\n",
       "      <td>2</td>\n",
       "      <td>2</td>\n",
       "      <td>1</td>\n",
       "      <td>2</td>\n",
       "      <td>2</td>\n",
       "    </tr>\n",
       "    <tr>\n",
       "      <th>DIGNITAS DIGITAL PRIVATE LIMITED</th>\n",
       "      <td>1</td>\n",
       "      <td>1</td>\n",
       "      <td>1</td>\n",
       "      <td>1</td>\n",
       "      <td>1</td>\n",
       "      <td>1</td>\n",
       "      <td>1</td>\n",
       "    </tr>\n",
       "    <tr>\n",
       "      <th>Gauge Data Solutions Pvt Ltd</th>\n",
       "      <td>1</td>\n",
       "      <td>1</td>\n",
       "      <td>1</td>\n",
       "      <td>1</td>\n",
       "      <td>1</td>\n",
       "      <td>1</td>\n",
       "      <td>1</td>\n",
       "    </tr>\n",
       "    <tr>\n",
       "      <th>MERITUS INTELYTICS PRIVATE LIMITED</th>\n",
       "      <td>1</td>\n",
       "      <td>1</td>\n",
       "      <td>1</td>\n",
       "      <td>1</td>\n",
       "      <td>1</td>\n",
       "      <td>1</td>\n",
       "      <td>1</td>\n",
       "    </tr>\n",
       "    <tr>\n",
       "      <th>Ressex</th>\n",
       "      <td>1</td>\n",
       "      <td>1</td>\n",
       "      <td>1</td>\n",
       "      <td>1</td>\n",
       "      <td>1</td>\n",
       "      <td>1</td>\n",
       "      <td>1</td>\n",
       "    </tr>\n",
       "    <tr>\n",
       "      <th>Right Step Consulting</th>\n",
       "      <td>1</td>\n",
       "      <td>1</td>\n",
       "      <td>1</td>\n",
       "      <td>1</td>\n",
       "      <td>1</td>\n",
       "      <td>1</td>\n",
       "      <td>1</td>\n",
       "    </tr>\n",
       "  </tbody>\n",
       "</table>\n",
       "</div>"
      ],
      "text/plain": [
       "                                    Unnamed: 0  Company  Experience  Link  \\\n",
       "Company                                                                     \n",
       "The Hiring Story                             2        1           2     2   \n",
       "DIGNITAS DIGITAL PRIVATE LIMITED             1        1           1     1   \n",
       "Gauge Data Solutions Pvt Ltd                 1        1           1     1   \n",
       "MERITUS INTELYTICS PRIVATE LIMITED           1        1           1     1   \n",
       "Ressex                                       1        1           1     1   \n",
       "Right Step Consulting                        1        1           1     1   \n",
       "\n",
       "                                    Location  Skills  Title  \n",
       "Company                                                      \n",
       "The Hiring Story                           1       2      2  \n",
       "DIGNITAS DIGITAL PRIVATE LIMITED           1       1      1  \n",
       "Gauge Data Solutions Pvt Ltd               1       1      1  \n",
       "MERITUS INTELYTICS PRIVATE LIMITED         1       1      1  \n",
       "Ressex                                     1       1      1  \n",
       "Right Step Consulting                      1       1      1  "
      ]
     },
     "execution_count": 33,
     "metadata": {},
     "output_type": "execute_result"
    }
   ],
   "source": [
    "data_new"
   ]
  }
 ],
 "metadata": {
  "kernelspec": {
   "display_name": "Python 3",
   "language": "python",
   "name": "python3"
  },
  "language_info": {
   "codemirror_mode": {
    "name": "ipython",
    "version": 3
   },
   "file_extension": ".py",
   "mimetype": "text/x-python",
   "name": "python",
   "nbconvert_exporter": "python",
   "pygments_lexer": "ipython3",
   "version": "3.7.3"
  }
 },
 "nbformat": 4,
 "nbformat_minor": 2
}
